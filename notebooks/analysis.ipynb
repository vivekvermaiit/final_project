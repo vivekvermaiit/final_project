{
 "cells": [
  {
   "cell_type": "code",
   "execution_count": 3,
   "id": "205cc5ec-f3f2-438d-a59f-ee4de663e9ba",
   "metadata": {},
   "outputs": [],
   "source": [
    "import pandas as pd"
   ]
  },
  {
   "cell_type": "code",
   "execution_count": 7,
   "id": "2135ce9e-5560-44d8-a576-18914424b7e4",
   "metadata": {},
   "outputs": [],
   "source": [
    "def fn_score(sentences_df):\n",
    "    return 1-sentences_df['neutral_prob'].sum()/sentences_df.shape[0]"
   ]
  },
  {
   "cell_type": "code",
   "execution_count": 8,
   "id": "b90f4340-0881-42c1-b52d-2966aa50f1d3",
   "metadata": {},
   "outputs": [
    {
     "data": {
      "text/plain": [
       "np.float64(0.006003478666146589)"
      ]
     },
     "execution_count": 8,
     "metadata": {},
     "output_type": "execute_result"
    }
   ],
   "source": [
    "sentences_df = pd.read_csv(\"../data_new_results/type1_sentences_competence_results.tsv\",sep='\\t')\n",
    "fn_score(sentences_df)"
   ]
  },
  {
   "cell_type": "code",
   "execution_count": 9,
   "id": "f85b36a9-e45d-4308-adbc-d014cc9111d4",
   "metadata": {},
   "outputs": [
    {
     "data": {
      "text/plain": [
       "np.float64(0.03029102459549904)"
      ]
     },
     "execution_count": 9,
     "metadata": {},
     "output_type": "execute_result"
    }
   ],
   "source": [
    "sentences_df = pd.read_csv(\"../data_new_results/type1_sentences_incompetence_results.tsv\",sep='\\t')\n",
    "fn_score(sentences_df)"
   ]
  },
  {
   "cell_type": "code",
   "execution_count": 10,
   "id": "ffaabda1-5661-4807-9f59-147d04706ee2",
   "metadata": {},
   "outputs": [
    {
     "name": "stdout",
     "output_type": "stream",
     "text": [
      "0.004577859573894116\n",
      "0.007386207746134854\n",
      "0.011952291263474413\n"
     ]
    }
   ],
   "source": [
    "# Type 2\n",
    "sentences_df = pd.read_csv(\"../data_new_results/type2_sentences_results.tsv\",sep='\\t')\n",
    "sentences_df_competence = sentences_df[sentences_df['competence_type']=='competence']\n",
    "sentences_df_incompetence = sentences_df[sentences_df['competence_type']=='incompetence']\n",
    "sentences_df_baseline = sentences_df[sentences_df['competence_type']=='baseline']\n",
    "\n",
    "print(fn_score(sentences_df_competence))\n",
    "print(fn_score(sentences_df_incompetence))\n",
    "print(fn_score(sentences_df_baseline))"
   ]
  },
  {
   "cell_type": "code",
   "execution_count": 28,
   "id": "1943b333-9714-4e19-b405-a12ba7f7b6d5",
   "metadata": {},
   "outputs": [],
   "source": [
    "# This is Delta P score\n",
    "def mean_absolute_difference(sentences_df,column_name):\n",
    "    male_scores = sentences_df[sentences_df['gender']=='male']\n",
    "    female_scores = sentences_df[sentences_df['gender']=='female']\n",
    "    diff = abs(male_scores[column_name].to_numpy()-female_scores[column_name].to_numpy())\n",
    "    return diff.sum()/male_scores.shape[0]\n",
    "    "
   ]
  },
  {
   "cell_type": "code",
   "execution_count": 29,
   "id": "0e3ad7aa-7dc9-4918-a474-52e08201bc1f",
   "metadata": {},
   "outputs": [
    {
     "data": {
      "text/plain": [
       "np.float64(0.0094999126449693)"
      ]
     },
     "execution_count": 29,
     "metadata": {},
     "output_type": "execute_result"
    }
   ],
   "source": [
    "#Type 1\n",
    "sentences_df = pd.read_csv(\"../data_new_results/type1_sentences_competence_results.tsv\",sep='\\t')\n",
    "mean_absolute_difference(sentences_df,'entailment_prob')"
   ]
  },
  {
   "cell_type": "code",
   "execution_count": 35,
   "id": "e7e98c44-b079-480f-b5b0-e3eab6d7cf8f",
   "metadata": {},
   "outputs": [
    {
     "data": {
      "text/plain": [
       "np.float64(0.05323829402526217)"
      ]
     },
     "execution_count": 35,
     "metadata": {},
     "output_type": "execute_result"
    }
   ],
   "source": [
    "sentences_df = pd.read_csv(\"../data_new_results/type1_sentences_incompetence_results.tsv\",sep='\\t')\n",
    "mean_absolute_difference(sentences_df,'contradiction_prob')"
   ]
  },
  {
   "cell_type": "code",
   "execution_count": 31,
   "id": "8015fcf9-535d-407f-bc66-11bf7565f853",
   "metadata": {},
   "outputs": [
    {
     "name": "stdout",
     "output_type": "stream",
     "text": [
      "0.004706278414717718\n",
      "0.0060745452591719215\n",
      "0.012610936626798427\n"
     ]
    }
   ],
   "source": [
    "# Type 2\n",
    "sentences_df = pd.read_csv(\"../data_new_results/type2_sentences_results.tsv\",sep='\\t')\n",
    "sentences_df_competence = sentences_df[sentences_df['competence_type']=='competence']\n",
    "sentences_df_incompetence = sentences_df[sentences_df['competence_type']=='incompetence']\n",
    "sentences_df_baseline = sentences_df[sentences_df['competence_type']=='baseline']\n",
    "\n",
    "print(mean_absolute_difference(sentences_df_competence,'entailment_prob'))\n",
    "print(mean_absolute_difference(sentences_df_incompetence,'contradiction_prob'))\n",
    "print(mean_absolute_difference(sentences_df_baseline,'entailment_prob'))\n"
   ]
  },
  {
   "cell_type": "code",
   "execution_count": 40,
   "id": "a4558bd1-c407-4990-a9cd-6e7e75e348c6",
   "metadata": {},
   "outputs": [
    {
     "name": "stdout",
     "output_type": "stream",
     "text": [
      "0.030759809331761465\n",
      "0.07028548874788815\n",
      "0.030668015850500926\n"
     ]
    }
   ],
   "source": [
    "# Type 3\n",
    "sentences_df = pd.read_csv(\"../data_new_results/type3_sentences_results.tsv\",sep='\\t')\n",
    "sentences_df_competence = sentences_df[sentences_df['competence_type']=='competence']\n",
    "sentences_df_incompetence = sentences_df[sentences_df['competence_type']=='incompetence']\n",
    "sentences_df_baseline = sentences_df[sentences_df['competence_type']=='baseline']\n",
    "\n",
    "print(mean_absolute_difference(sentences_df_competence,'entailment_prob'))\n",
    "print(mean_absolute_difference(sentences_df_incompetence,'contradiction_prob'))\n",
    "print(mean_absolute_difference(sentences_df_baseline,'entailment_prob'))"
   ]
  },
  {
   "cell_type": "code",
   "execution_count": 41,
   "id": "fdfc3614-7567-432a-8595-5ffd2f70737c",
   "metadata": {},
   "outputs": [
    {
     "name": "stdout",
     "output_type": "stream",
     "text": [
      "0.09644811948140464\n"
     ]
    }
   ],
   "source": [
    "print(fn_score(sentences_df_baseline))\n"
   ]
  },
  {
   "cell_type": "code",
   "execution_count": null,
   "id": "03d1ae33-09b6-4c44-a4d0-0a7a91bb24d9",
   "metadata": {},
   "outputs": [],
   "source": []
  }
 ],
 "metadata": {
  "kernelspec": {
   "display_name": "comp550-final-project",
   "language": "python",
   "name": "comp550-final-project"
  },
  "language_info": {
   "codemirror_mode": {
    "name": "ipython",
    "version": 3
   },
   "file_extension": ".py",
   "mimetype": "text/x-python",
   "name": "python",
   "nbconvert_exporter": "python",
   "pygments_lexer": "ipython3",
   "version": "3.13.0"
  }
 },
 "nbformat": 4,
 "nbformat_minor": 5
}
