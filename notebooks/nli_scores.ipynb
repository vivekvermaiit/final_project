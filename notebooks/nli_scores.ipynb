{
 "cells": [
  {
   "cell_type": "code",
   "execution_count": 65,
   "id": "eded2f28-0e8e-4e6e-9a13-552a6b4353b8",
   "metadata": {},
   "outputs": [],
   "source": [
    "import numpy as np\n",
    "import requests\n",
    "import torch\n",
    "import pandas as pd\n",
    "from transformers import AutoModelForSequenceClassification, AutoTokenizer"
   ]
  },
  {
   "cell_type": "code",
   "execution_count": 66,
   "id": "01938e80-cf17-41c3-8604-5b210b16bf6a",
   "metadata": {},
   "outputs": [],
   "source": [
    "#BOILERPLATE NLI MODEL CODE\n",
    "# Set up NLI model\n",
    "NLI_MODEL = AutoModelForSequenceClassification.from_pretrained('facebook/bart-large-mnli')\n",
    "TOKENIZER = AutoTokenizer.from_pretrained('facebook/bart-large-mnli')\n",
    "DEVICE    = torch.device(\"cuda\" if torch.cuda.is_available() else \"cpu\")\n"
   ]
  },
  {
   "cell_type": "code",
   "execution_count": 67,
   "id": "19b6500a-988e-4823-88fb-c0cfa4967b28",
   "metadata": {},
   "outputs": [],
   "source": [
    "def get_nli_scores(premise,hypothesis,occupation,gender):\n",
    "    # Generate probabilities\n",
    "    inputs = TOKENIZER.encode(premise, hypothesis, return_tensors='pt', truncation=True)\n",
    "    inputs = inputs.to(DEVICE)\n",
    "    NLI_MODEL.to(DEVICE)\n",
    "    logits = NLI_MODEL(inputs)[0]\n",
    "    #print(logits)\n",
    "    probs = logits.softmax(dim = 1)\n",
    "    \n",
    "    # Parse probabilities\n",
    "    entailment_prob = probs[:, 2].item()\n",
    "    neutral_prob = probs[:, 1].item()\n",
    "    contradiction_prob = probs[:, 0].item()\n",
    "    # if gender!='gender_neutral' and (entailment_prob > 0.05 or contradiction_prob > 0.05):\n",
    "    #     print(occupation)\n",
    "    #print(occupation, contradiction_prob, neutral_prob, entailment_prob)\n",
    "    return contradiction_prob, neutral_prob, entailment_prob\n",
    "    "
   ]
  },
  {
   "cell_type": "code",
   "execution_count": 68,
   "id": "5cb2e63e-5801-4953-b11f-90a3c3a97035",
   "metadata": {},
   "outputs": [],
   "source": [
    "def add_nli_scores(sentences_df):\n",
    "    contradiction_probs = []\n",
    "    neutral_probs = [] \n",
    "    entailment_probs = []\n",
    "    for i in range(sentences_df.shape[0]):\n",
    "        contradiction_prob, neutral_prob, entailment_prob = get_nli_scores(sentences_df.iloc[i]['premise'],sentences_df.iloc[i]['hypothesis'],sentences_df.iloc[i]['occupation'],sentences_df.iloc[i]['gender'] )\n",
    "        contradiction_probs.append(contradiction_prob)\n",
    "        neutral_probs.append(neutral_prob)\n",
    "        entailment_probs.append(entailment_prob)\n",
    "    sentences_df['contradiction_prob'] = contradiction_probs\n",
    "    sentences_df['neutral_prob'] = neutral_probs\n",
    "    sentences_df['entailment_prob'] = entailment_probs\n",
    "    return sentences_df"
   ]
  },
  {
   "cell_type": "code",
   "execution_count": 69,
   "id": "a03cae27-5aab-4b57-8f40-25add93c97b4",
   "metadata": {},
   "outputs": [],
   "source": [
    "sentences_df = pd.read_csv(\"../data_new/type1_sentences_competence.tsv\",sep='\\t')\n",
    "sentences_df = sentences_df[sentences_df['gender'].isin(['male','female'])]\n",
    "sentences_df = add_nli_scores(sentences_df)\n",
    "sentences_df.to_csv('../data_new_results/type1_sentences_competence_results.tsv', sep='\\t', index=False)\n"
   ]
  },
  {
   "cell_type": "code",
   "execution_count": 70,
   "id": "34058b1b-8bbd-4a7b-9e38-4556d1458468",
   "metadata": {},
   "outputs": [],
   "source": [
    "sentences_df = pd.read_csv(\"../data_new/type1_sentences_incompetence.tsv\",sep='\\t')\n",
    "sentences_df = sentences_df[sentences_df['gender'].isin(['male','female'])]\n",
    "sentences_df = add_nli_scores(sentences_df)\n",
    "sentences_df.to_csv('../data_new_results/type1_sentences_incompetence_results.tsv', sep='\\t', index=False)\n"
   ]
  },
  {
   "cell_type": "code",
   "execution_count": null,
   "id": "08441190-b62f-4b88-9ee5-8deca7908423",
   "metadata": {},
   "outputs": [],
   "source": [
    "sentences_df = pd.read_csv(\"../data_new/type1_sentences_skilled.tsv\",sep='\\t')\n",
    "sentences_df = sentences_df[sentences_df['gender'].isin(['male','female'])]\n",
    "sentences_df = add_nli_scores(sentences_df)\n",
    "sentences_df.to_csv('../data_new_results/type1_sentences_skilled_results.tsv', sep='\\t', index=False)\n"
   ]
  },
  {
   "cell_type": "code",
   "execution_count": null,
   "id": "3f1691c2-1742-44d2-b4ac-dbc2a9e51662",
   "metadata": {},
   "outputs": [],
   "source": [
    "sentences_df = pd.read_csv(\"../data_new/type1_sentences_unskilled.tsv\",sep='\\t')\n",
    "sentences_df = sentences_df[sentences_df['gender'].isin(['male','female'])]\n",
    "sentences_df = add_nli_scores(sentences_df)\n",
    "sentences_df.to_csv('../data_new_results/type1_sentences_unskilled_results.tsv', sep='\\t', index=False)\n"
   ]
  },
  {
   "cell_type": "code",
   "execution_count": null,
   "id": "cf4c2f21-beb3-40a7-8dde-831224ad774b",
   "metadata": {},
   "outputs": [],
   "source": [
    "# Gender neutral \n",
    "sentences_df = pd.read_csv(\"../data_new/type1_sentences_competence_2.tsv\",sep='\\t')\n",
    "sentences_df = add_nli_scores(sentences_df)\n",
    "sentences_df.to_csv('../data_new_results/type1_sentences_competence_2_results.tsv', sep='\\t', index=False)\n"
   ]
  },
  {
   "cell_type": "code",
   "execution_count": null,
   "id": "ef1ec133-e632-4b5d-879d-c5ce6a86d914",
   "metadata": {},
   "outputs": [],
   "source": [
    "# Type 3\n",
    "sentences_df = pd.read_csv(\"../data_new/type3_sentences.tsv\",sep='\\t')\n",
    "sentences_df = sentences_df[sentences_df['gender'].isin(['male','female'])]\n",
    "sentences_df = add_nli_scores(sentences_df)\n",
    "sentences_df.to_csv('../data_new_results/type3_sentences_results.tsv', sep='\\t', index=False)\n"
   ]
  },
  {
   "cell_type": "code",
   "execution_count": 64,
   "id": "4992e032-8f78-452f-b56f-1c5d73ea2f2e",
   "metadata": {},
   "outputs": [],
   "source": [
    "# Type 2\n",
    "sentences_df = pd.read_csv(\"../data_new/type2_sentences.tsv\",sep='\\t')\n",
    "sentences_df = sentences_df[sentences_df['gender'].isin(['male','female'])]\n",
    "sentences_df = add_nli_scores(sentences_df)\n",
    "sentences_df.to_csv('../data_new_results/type2_sentences_results.tsv', sep='\\t', index=False)\n"
   ]
  }
 ],
 "metadata": {
  "kernelspec": {
   "display_name": "comp550-final-project",
   "language": "python",
   "name": "comp550-final-project"
  },
  "language_info": {
   "codemirror_mode": {
    "name": "ipython",
    "version": 3
   },
   "file_extension": ".py",
   "mimetype": "text/x-python",
   "name": "python",
   "nbconvert_exporter": "python",
   "pygments_lexer": "ipython3",
   "version": "3.13.0"
  }
 },
 "nbformat": 4,
 "nbformat_minor": 5
}
