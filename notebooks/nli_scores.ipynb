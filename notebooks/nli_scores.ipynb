{
 "cells": [
  {
   "cell_type": "code",
   "execution_count": 2,
   "id": "eded2f28-0e8e-4e6e-9a13-552a6b4353b8",
   "metadata": {},
   "outputs": [
    {
     "name": "stderr",
     "output_type": "stream",
     "text": [
      "/Users/nubster/miniconda3/envs/comp550-final-project/lib/python3.13/site-packages/tqdm/auto.py:21: TqdmWarning: IProgress not found. Please update jupyter and ipywidgets. See https://ipywidgets.readthedocs.io/en/stable/user_install.html\n",
      "  from .autonotebook import tqdm as notebook_tqdm\n"
     ]
    }
   ],
   "source": [
    "import numpy as np\n",
    "import requests\n",
    "import torch\n",
    "import pandas as pd\n",
    "from transformers import AutoModelForSequenceClassification, AutoTokenizer"
   ]
  },
  {
   "cell_type": "code",
   "execution_count": 3,
   "id": "01938e80-cf17-41c3-8604-5b210b16bf6a",
   "metadata": {},
   "outputs": [],
   "source": [
    "#BOILERPLATE NLI MODEL CODE\n",
    "# Set up NLI model\n",
    "NLI_MODEL = AutoModelForSequenceClassification.from_pretrained('facebook/bart-large-mnli')\n",
    "TOKENIZER = AutoTokenizer.from_pretrained('facebook/bart-large-mnli')\n",
    "DEVICE    = torch.device(\"cuda\" if torch.cuda.is_available() else \"cpu\")\n"
   ]
  },
  {
   "cell_type": "code",
   "execution_count": 63,
   "id": "19b6500a-988e-4823-88fb-c0cfa4967b28",
   "metadata": {},
   "outputs": [],
   "source": [
    "def get_nli_scores(premise,hypothesis,occupation,gender):\n",
    "    # Generate probabilities\n",
    "    inputs = TOKENIZER.encode(premise, hypothesis, return_tensors='pt', truncation=True)\n",
    "    inputs = inputs.to(DEVICE)\n",
    "    NLI_MODEL.to(DEVICE)\n",
    "    logits = NLI_MODEL(inputs)[0]\n",
    "    #print(logits)\n",
    "    probs = logits.softmax(dim = 1)\n",
    "    \n",
    "    # Parse probabilities\n",
    "    entailment_prob = probs[:, 2].item()\n",
    "    neutral_prob = probs[:, 1].item()\n",
    "    contradiction_prob = probs[:, 0].item()\n",
    "    # if gender!='gender_neutral' and (entailment_prob > 0.05 or contradiction_prob > 0.05):\n",
    "    #     print(occupation)\n",
    "    #print(occupation, contradiction_prob, neutral_prob, entailment_prob)\n",
    "    return contradiction_prob, neutral_prob, entailment_prob\n",
    "    "
   ]
  },
  {
   "cell_type": "code",
   "execution_count": 49,
   "id": "a03cae27-5aab-4b57-8f40-25add93c97b4",
   "metadata": {},
   "outputs": [],
   "source": [
    "sentences_df = pd.read_csv(\"../data_new/type1_sentences_competence.tsv\",sep='\\t')\n",
    "sentences_df = sentences_df[sentences_df['gender'].isin(['male','female'])]"
   ]
  },
  {
   "cell_type": "code",
   "execution_count": 50,
   "id": "242f8f92-fb2e-42a3-bf2c-ac598f7995a0",
   "metadata": {},
   "outputs": [
    {
     "name": "stdout",
     "output_type": "stream",
     "text": [
      "manager\n",
      "baker\n",
      "secretary\n"
     ]
    }
   ],
   "source": [
    "contradiction_probs = []\n",
    "neutral_probs = [] \n",
    "entailment_probs = []\n",
    "for i in range(sentences_df.shape[0]):\n",
    "    contradiction_prob, neutral_prob, entailment_prob = get_nli_scores(sentences_df.iloc[i]['premise'],sentences_df.iloc[i]['hypothesis'],sentences_df.iloc[i]['occupation'],sentences_df.iloc[i]['gender'] )\n",
    "    contradiction_probs.append(contradiction_prob)\n",
    "    neutral_probs.append(neutral_prob)\n",
    "    entailment_probs.append(entailment_prob)\n"
   ]
  },
  {
   "cell_type": "code",
   "execution_count": 51,
   "id": "3b48a536-a907-4e19-9d08-18b4086e360d",
   "metadata": {},
   "outputs": [],
   "source": [
    "sentences_df['contradiction_prob'] = contradiction_probs\n",
    "sentences_df['neutral_prob'] = neutral_probs\n",
    "sentences_df['entailment_prob'] = entailment_probs\n",
    "sentences_df.to_csv('../data_new_results/type1_sentences_competence_results.tsv', sep='\\t', index=False)\n"
   ]
  },
  {
   "cell_type": "code",
   "execution_count": 52,
   "id": "34058b1b-8bbd-4a7b-9e38-4556d1458468",
   "metadata": {},
   "outputs": [
    {
     "name": "stdout",
     "output_type": "stream",
     "text": [
      "accountant\n",
      "engineer\n",
      "inspector\n",
      "manager\n",
      "physician\n",
      "carpenter\n",
      "carpenter\n",
      "nurse\n",
      "plumber\n",
      "chemist\n",
      "appraiser\n",
      "auditor\n",
      "broker\n",
      "secretary\n"
     ]
    }
   ],
   "source": [
    "sentences_df = pd.read_csv(\"../data_new/type1_sentences_incompetence.tsv\",sep='\\t')\n",
    "sentences_df = sentences_df[sentences_df['gender'].isin(['male','female'])]\n",
    "contradiction_probs = []\n",
    "neutral_probs = [] \n",
    "entailment_probs = []\n",
    "for i in range(sentences_df.shape[0]):\n",
    "    contradiction_prob, neutral_prob, entailment_prob = get_nli_scores(sentences_df.iloc[i]['premise'],sentences_df.iloc[i]['hypothesis'],sentences_df.iloc[i]['occupation'],sentences_df.iloc[i]['gender'] )\n",
    "    contradiction_probs.append(contradiction_prob)\n",
    "    neutral_probs.append(neutral_prob)\n",
    "    entailment_probs.append(entailment_prob)\n",
    "sentences_df['contradiction_prob'] = contradiction_probs\n",
    "sentences_df['neutral_prob'] = neutral_probs\n",
    "sentences_df['entailment_prob'] = entailment_probs\n",
    "sentences_df.to_csv('../data_new_results/type1_sentences_incompetence_results.tsv', sep='\\t', index=False)\n"
   ]
  },
  {
   "cell_type": "code",
   "execution_count": 48,
   "id": "cf4c2f21-beb3-40a7-8dde-831224ad774b",
   "metadata": {},
   "outputs": [
    {
     "name": "stdout",
     "output_type": "stream",
     "text": [
      "manager\n",
      "baker\n",
      "secretary\n"
     ]
    }
   ],
   "source": [
    "# Gender neutral \n",
    "sentences_df = pd.read_csv(\"../data_new/type1_sentences_competence_2.tsv\",sep='\\t')\n",
    "contradiction_probs = []\n",
    "neutral_probs = [] \n",
    "entailment_probs = []\n",
    "for i in range(sentences_df.shape[0]):\n",
    "    contradiction_prob, neutral_prob, entailment_prob = get_nli_scores(sentences_df.iloc[i]['premise'],sentences_df.iloc[i]['hypothesis'],sentences_df.iloc[i]['occupation'],sentences_df.iloc[i]['gender'] )\n",
    "    contradiction_probs.append(contradiction_prob)\n",
    "    neutral_probs.append(neutral_prob)\n",
    "    entailment_probs.append(entailment_prob)\n",
    "sentences_df['contradiction_prob'] = contradiction_probs\n",
    "sentences_df['neutral_prob'] = neutral_probs\n",
    "sentences_df['entailment_prob'] = entailment_probs\n",
    "sentences_df.to_csv('../data_new_results/type1_sentences_competence_2_results.tsv', sep='\\t', index=False)\n"
   ]
  },
  {
   "cell_type": "code",
   "execution_count": null,
   "id": "ef1ec133-e632-4b5d-879d-c5ce6a86d914",
   "metadata": {},
   "outputs": [],
   "source": [
    "# Type 3\n",
    "sentences_df = pd.read_csv(\"../data_new/type3_sentences.tsv\",sep='\\t')\n",
    "sentences_df = sentences_df[sentences_df['gender'].isin(['male','female'])]\n",
    "contradiction_probs = []\n",
    "neutral_probs = [] \n",
    "entailment_probs = []\n",
    "for i in range(sentences_df.shape[0]):\n",
    "    contradiction_prob, neutral_prob, entailment_prob = get_nli_scores(sentences_df.iloc[i]['premise'],sentences_df.iloc[i]['hypothesis'],sentences_df.iloc[i]['occupation'],sentences_df.iloc[i]['gender'] )\n",
    "    contradiction_probs.append(contradiction_prob)\n",
    "    neutral_probs.append(neutral_prob)\n",
    "    entailment_probs.append(entailment_prob)\n",
    "sentences_df['contradiction_prob'] = contradiction_probs\n",
    "sentences_df['neutral_prob'] = neutral_probs\n",
    "sentences_df['entailment_prob'] = entailment_probs\n",
    "sentences_df.to_csv('../data_new_results/type3_sentences_results.tsv', sep='\\t', index=False)\n"
   ]
  },
  {
   "cell_type": "code",
   "execution_count": 64,
   "id": "4992e032-8f78-452f-b56f-1c5d73ea2f2e",
   "metadata": {},
   "outputs": [],
   "source": [
    "# Type 2\n",
    "sentences_df = pd.read_csv(\"../data_new/type2_sentences.tsv\",sep='\\t')\n",
    "sentences_df = sentences_df[sentences_df['gender'].isin(['male','female'])]\n",
    "contradiction_probs = []\n",
    "neutral_probs = [] \n",
    "entailment_probs = []\n",
    "for i in range(sentences_df.shape[0]):\n",
    "    contradiction_prob, neutral_prob, entailment_prob = get_nli_scores(sentences_df.iloc[i]['premise'],sentences_df.iloc[i]['hypothesis'],sentences_df.iloc[i]['occupation'],sentences_df.iloc[i]['gender'] )\n",
    "    contradiction_probs.append(contradiction_prob)\n",
    "    neutral_probs.append(neutral_prob)\n",
    "    entailment_probs.append(entailment_prob)\n",
    "sentences_df['contradiction_prob'] = contradiction_probs\n",
    "sentences_df['neutral_prob'] = neutral_probs\n",
    "sentences_df['entailment_prob'] = entailment_probs\n",
    "sentences_df.to_csv('../data_new_results/type2_sentences_results.tsv', sep='\\t', index=False)\n"
   ]
  },
  {
   "cell_type": "code",
   "execution_count": null,
   "id": "29c6a4a4-2a67-4024-bbc0-5a4a9dd08362",
   "metadata": {},
   "outputs": [],
   "source": []
  }
 ],
 "metadata": {
  "kernelspec": {
   "display_name": "comp550-final-project",
   "language": "python",
   "name": "comp550-final-project"
  },
  "language_info": {
   "codemirror_mode": {
    "name": "ipython",
    "version": 3
   },
   "file_extension": ".py",
   "mimetype": "text/x-python",
   "name": "python",
   "nbconvert_exporter": "python",
   "pygments_lexer": "ipython3",
   "version": "3.13.0"
  }
 },
 "nbformat": 4,
 "nbformat_minor": 5
}
