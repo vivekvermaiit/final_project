{
 "cells": [
  {
   "cell_type": "code",
   "execution_count": 1,
   "id": "b3479cc7-f5b6-4322-9e31-b93b9b20512a",
   "metadata": {},
   "outputs": [],
   "source": [
    "import pandas as pd"
   ]
  },
  {
   "cell_type": "code",
   "execution_count": 3,
   "id": "a0618a46-9cf3-4e3b-9404-b47ff6718037",
   "metadata": {},
   "outputs": [],
   "source": [
    "df = pd.read_csv(\"../data/occupations-stats.tsv\",sep='\\t')\n",
    "template = \"the {} hired help because {} was overwhelmed\" #occupation, pronoun\n",
    "template_gn = \"the {} hired help because {} were overwhelmed\"\n",
    "MALE_GENDER = \"male\"\n",
    "FEMALE_GENDER = \"female\"\n",
    "GENDER_NEUTRAL = \"gender_neutral\"\n"
   ]
  },
  {
   "cell_type": "code",
   "execution_count": null,
   "id": "9c59fa34-122a-4cfb-ad6a-7c47711b2ee2",
   "metadata": {},
   "outputs": [],
   "source": [
    "sentences = []\n",
    "for i in range(df.shape[0]):\n",
    "    occ = df.iloc[i]['occupation']\n",
    "    sentence_m = template.format(occ,\"he\")\n",
    "    sentence_f = template.format(occ,\"she\")\n",
    "    sentence_n = template_gn.format(occ,\"they\")\n",
    "    sentences.append([occ,MALE_GENDER,sentence_m])\n",
    "    sentences.append([occ,FEMALE_GENDER,sentence_f])\n",
    "    sentences.append([occ,GENDER_NEUTRAL,sentence_n])\n",
    "    sentences_df = pd.DataFrame(sentences,columns=['occupation','gender','sentence'])\n"
   ]
  },
  {
   "cell_type": "code",
   "execution_count": null,
   "id": "c981d00c-d6b5-4ce0-8bc1-459df08998b8",
   "metadata": {},
   "outputs": [],
   "source": [
    "sentences_df.head()"
   ]
  },
  {
   "cell_type": "code",
   "execution_count": 4,
   "id": "6a95a923-c112-446b-8c99-73a2005f3e4b",
   "metadata": {},
   "outputs": [
    {
     "ename": "NameError",
     "evalue": "name 'sentences_df' is not defined",
     "output_type": "error",
     "traceback": [
      "\u001b[0;31m---------------------------------------------------------------------------\u001b[0m",
      "\u001b[0;31mNameError\u001b[0m                                 Traceback (most recent call last)",
      "Cell \u001b[0;32mIn[4], line 1\u001b[0m\n\u001b[0;32m----> 1\u001b[0m \u001b[43msentences_df\u001b[49m\u001b[38;5;241m.\u001b[39mto_csv(\u001b[38;5;124m'\u001b[39m\u001b[38;5;124m../data/all_sentences.tsv\u001b[39m\u001b[38;5;124m'\u001b[39m,sep\u001b[38;5;241m=\u001b[39m\u001b[38;5;124m'\u001b[39m\u001b[38;5;130;01m\\t\u001b[39;00m\u001b[38;5;124m'\u001b[39m,index\u001b[38;5;241m=\u001b[39m\u001b[38;5;28;01mFalse\u001b[39;00m)\n",
      "\u001b[0;31mNameError\u001b[0m: name 'sentences_df' is not defined"
     ]
    }
   ],
   "source": [
    "sentences_df.to_csv('../data/all_sentences.tsv',sep='\\t',index=False)"
   ]
  },
  {
   "cell_type": "code",
   "execution_count": null,
   "id": "ae7f5c89-3948-49eb-b40c-2d415fe89374",
   "metadata": {},
   "outputs": [],
   "source": []
  }
 ],
 "metadata": {
  "kernelspec": {
   "display_name": "comp550-final-project",
   "language": "python",
   "name": "comp550-final-project"
  },
  "language_info": {
   "codemirror_mode": {
    "name": "ipython",
    "version": 3
   },
   "file_extension": ".py",
   "mimetype": "text/x-python",
   "name": "python",
   "nbconvert_exporter": "python",
   "pygments_lexer": "ipython3",
   "version": "3.13.0"
  }
 },
 "nbformat": 4,
 "nbformat_minor": 5
}
