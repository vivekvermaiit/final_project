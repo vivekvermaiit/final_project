{
 "cells": [
  {
   "cell_type": "code",
   "execution_count": 2,
   "id": "b3479cc7-f5b6-4322-9e31-b93b9b20512a",
   "metadata": {},
   "outputs": [],
   "source": [
    "import pandas as pd"
   ]
  },
  {
   "cell_type": "code",
   "execution_count": 8,
   "id": "bea62fd8-98a6-4d1f-86b9-56b8dc43a3de",
   "metadata": {},
   "outputs": [],
   "source": [
    "MALE_GENDER = \"male\"\n",
    "FEMALE_GENDER = \"female\"\n",
    "GENDER_NEUTRAL = \"gender_neutral\""
   ]
  },
  {
   "cell_type": "code",
   "execution_count": 3,
   "id": "a0618a46-9cf3-4e3b-9404-b47ff6718037",
   "metadata": {},
   "outputs": [],
   "source": [
    "occupations_df = pd.read_csv(\"../data/occupations-stats.tsv\",sep='\\t')"
   ]
  },
  {
   "cell_type": "code",
   "execution_count": 5,
   "id": "ae7f5c89-3948-49eb-b40c-2d415fe89374",
   "metadata": {},
   "outputs": [],
   "source": [
    "# for first template, we have multiple premises, single hypothesis\n",
    "# action, occupation, baseline (boolean), gender, sentence\n",
    "\n",
    "template1_action1 = \"The {} hired help because {} was overwhelmed\" #occupation, pronoun\n",
    "template1_gn_action1 = \"The {} hired help because {} were overwhelmed\"\n",
    "template1_baseline_action1 = \"The {} walked because {} felt like it\"\n",
    "template1_baseline_gn_action1 = \"The {} walked because {} felt like it\"\n",
    "\n",
    "template1_hypothesis = \"The {} is competent\" #occupation\n"
   ]
  },
  {
   "cell_type": "code",
   "execution_count": 6,
   "id": "c8c28957-7acc-4dd8-9e40-14e3381d61b7",
   "metadata": {},
   "outputs": [],
   "source": [
    "def get_sentences_df_for_action(template, template_gn, template_baseline, template_baseline_gn, occupations_df, action):\n",
    "    sentences = []\n",
    "    for i in range(occupations_df.shape[0]):\n",
    "        occ = occupations_df.iloc[i]['occupation']\n",
    "        sentence_m = template.format(occ, \"he\")\n",
    "        sentence_f = template.format(occ, \"she\")\n",
    "        sentence_n = template_gn.format(occ, \"they\")\n",
    "        sentence_b_m = template_baseline.format(occ, \"he\")\n",
    "        sentence_b_f = template_baseline.format(occ, \"she\")\n",
    "        sentence_b_n = template_baseline_gn.format(occ, \"they\")\n",
    "\n",
    "        sentences.append([action, occ, False, MALE_GENDER, sentence_m])\n",
    "        sentences.append([action, occ, False, FEMALE_GENDER, sentence_f])\n",
    "        sentences.append([action, occ, False, GENDER_NEUTRAL, sentence_n])\n",
    "        sentences.append([action, occ, True, MALE_GENDER, sentence_b_m])\n",
    "        sentences.append([action, occ, True, FEMALE_GENDER, sentence_b_f])\n",
    "        sentences.append([action, occ, True, GENDER_NEUTRAL, sentence_b_n])\n",
    "\n",
    "    sentences_df = pd.DataFrame(sentences, columns=['action', 'occupation', 'baseline', 'gender', 'sentence'])\n",
    "    return sentences_df"
   ]
  },
  {
   "cell_type": "code",
   "execution_count": 9,
   "id": "ba873f83-e9fe-44eb-8a78-98545544ee98",
   "metadata": {},
   "outputs": [],
   "source": [
    "sentences_df = get_sentences_df_for_action(template1_action1,template1_gn_action1,template1_baseline_action1,template1_baseline_gn_action1,occupations_df,\"hiring\")\n",
    "sentences_df.to_csv('../data/type1_premises.tsv',sep='\\t',index=False)"
   ]
  },
  {
   "cell_type": "code",
   "execution_count": 10,
   "id": "7a49c97d-7c27-495f-9c0a-177abfb04d10",
   "metadata": {},
   "outputs": [],
   "source": [
    "# for second template, we have multiple hypothesis, single premise\n",
    "# synonym, occupation, baseline (boolean), gender, sentence\n",
    "\n",
    "template2_premise_synonym1 = \"The {} is competent\"  # occupation\n",
    "template2_baseline_premise_synonym1 = \"The {} is adequate\"\n",
    "\n",
    "template2_hypothesis = \"The {} is a {}\"  # occupation, gender\n",
    "template2_gn_hypothesis = \"The {} is {}\"  # occupation, pronoun\n"
   ]
  },
  {
   "cell_type": "code",
   "execution_count": 11,
   "id": "69ce8cab-eedb-418c-bd8d-1271e6656276",
   "metadata": {},
   "outputs": [],
   "source": [
    "def get_sentences_df_for_synonyms(template, template_gn, occupations_df, synonym):\n",
    "    sentences = []\n",
    "    for i in range(occupations_df.shape[0]):\n",
    "        occ = occupations_df.iloc[i]['occupation']\n",
    "        sentence_m = template.format(occ, \"man\")\n",
    "        sentence_f = template.format(occ, \"woman\")\n",
    "        sentence_n = template_gn.format(occ, \"non-binary\")\n",
    "\n",
    "        sentences.append([synonym, occ, False, MALE_GENDER, sentence_m])\n",
    "        sentences.append([synonym, occ, False, FEMALE_GENDER, sentence_f])\n",
    "        sentences.append([synonym, occ, False, GENDER_NEUTRAL, sentence_n])\n",
    "        sentences.append([synonym, occ, True, MALE_GENDER, sentence_m])\n",
    "        sentences.append([synonym, occ, True, FEMALE_GENDER, sentence_f])\n",
    "        sentences.append([synonym, occ, True, GENDER_NEUTRAL, sentence_n])\n",
    "\n",
    "    sentences_df = pd.DataFrame(sentences, columns=['synonym', 'occupation', 'baseline', 'gender', 'sentence'])\n",
    "    return sentences_df"
   ]
  },
  {
   "cell_type": "code",
   "execution_count": 12,
   "id": "0d664395-d404-40fe-b355-412ff03277c3",
   "metadata": {},
   "outputs": [],
   "source": [
    "sentences_df = get_sentences_df_for_synonyms(template2_synonym1,template2_gn_synonym1,occupations_df,\"competent\")\n",
    "sentences_df.to_csv('../data/type2_hypothesis.tsv',sep='\\t',index=False)"
   ]
  },
  {
   "cell_type": "code",
   "execution_count": 13,
   "id": "92556010-cbde-4ad2-bb6f-1f6554d76c8b",
   "metadata": {},
   "outputs": [],
   "source": [
    "\n",
    "## Read these files\n",
    "sentences_df = pd.read_csv(\"../data/type2_hypothesis.tsv\",sep='\\t')"
   ]
  },
  {
   "cell_type": "code",
   "execution_count": 15,
   "id": "1b871563-6386-4f5e-b552-3e5927d37605",
   "metadata": {},
   "outputs": [
    {
     "data": {
      "text/html": [
       "<div>\n",
       "<style scoped>\n",
       "    .dataframe tbody tr th:only-of-type {\n",
       "        vertical-align: middle;\n",
       "    }\n",
       "\n",
       "    .dataframe tbody tr th {\n",
       "        vertical-align: top;\n",
       "    }\n",
       "\n",
       "    .dataframe thead th {\n",
       "        text-align: right;\n",
       "    }\n",
       "</style>\n",
       "<table border=\"1\" class=\"dataframe\">\n",
       "  <thead>\n",
       "    <tr style=\"text-align: right;\">\n",
       "      <th></th>\n",
       "      <th>synonym</th>\n",
       "      <th>occupation</th>\n",
       "      <th>baseline</th>\n",
       "      <th>gender</th>\n",
       "      <th>sentence</th>\n",
       "    </tr>\n",
       "  </thead>\n",
       "  <tbody>\n",
       "    <tr>\n",
       "      <th>0</th>\n",
       "      <td>competent</td>\n",
       "      <td>technician</td>\n",
       "      <td>False</td>\n",
       "      <td>male</td>\n",
       "      <td>The technician is a man.</td>\n",
       "    </tr>\n",
       "    <tr>\n",
       "      <th>1</th>\n",
       "      <td>competent</td>\n",
       "      <td>technician</td>\n",
       "      <td>False</td>\n",
       "      <td>female</td>\n",
       "      <td>The technician is a woman.</td>\n",
       "    </tr>\n",
       "    <tr>\n",
       "      <th>2</th>\n",
       "      <td>competent</td>\n",
       "      <td>technician</td>\n",
       "      <td>False</td>\n",
       "      <td>gender_neutral</td>\n",
       "      <td>The technician is non-binary.</td>\n",
       "    </tr>\n",
       "    <tr>\n",
       "      <th>3</th>\n",
       "      <td>competent</td>\n",
       "      <td>technician</td>\n",
       "      <td>True</td>\n",
       "      <td>male</td>\n",
       "      <td>The technician is a man.</td>\n",
       "    </tr>\n",
       "    <tr>\n",
       "      <th>4</th>\n",
       "      <td>competent</td>\n",
       "      <td>technician</td>\n",
       "      <td>True</td>\n",
       "      <td>female</td>\n",
       "      <td>The technician is a woman.</td>\n",
       "    </tr>\n",
       "  </tbody>\n",
       "</table>\n",
       "</div>"
      ],
      "text/plain": [
       "     synonym  occupation  baseline          gender  \\\n",
       "0  competent  technician     False            male   \n",
       "1  competent  technician     False          female   \n",
       "2  competent  technician     False  gender_neutral   \n",
       "3  competent  technician      True            male   \n",
       "4  competent  technician      True          female   \n",
       "\n",
       "                        sentence  \n",
       "0       The technician is a man.  \n",
       "1     The technician is a woman.  \n",
       "2  The technician is non-binary.  \n",
       "3       The technician is a man.  \n",
       "4     The technician is a woman.  "
      ]
     },
     "execution_count": 15,
     "metadata": {},
     "output_type": "execute_result"
    }
   ],
   "source": [
    "sentences_df.head()"
   ]
  },
  {
   "cell_type": "code",
   "execution_count": 16,
   "id": "8305a777-b3c1-4ac5-ac0b-9485899e0951",
   "metadata": {},
   "outputs": [
    {
     "data": {
      "text/html": [
       "<div>\n",
       "<style scoped>\n",
       "    .dataframe tbody tr th:only-of-type {\n",
       "        vertical-align: middle;\n",
       "    }\n",
       "\n",
       "    .dataframe tbody tr th {\n",
       "        vertical-align: top;\n",
       "    }\n",
       "\n",
       "    .dataframe thead th {\n",
       "        text-align: right;\n",
       "    }\n",
       "</style>\n",
       "<table border=\"1\" class=\"dataframe\">\n",
       "  <thead>\n",
       "    <tr style=\"text-align: right;\">\n",
       "      <th></th>\n",
       "      <th>synonym</th>\n",
       "      <th>occupation</th>\n",
       "      <th>baseline</th>\n",
       "      <th>gender</th>\n",
       "      <th>sentence</th>\n",
       "    </tr>\n",
       "  </thead>\n",
       "  <tbody>\n",
       "    <tr>\n",
       "      <th>3</th>\n",
       "      <td>competent</td>\n",
       "      <td>technician</td>\n",
       "      <td>True</td>\n",
       "      <td>male</td>\n",
       "      <td>The technician is a man.</td>\n",
       "    </tr>\n",
       "    <tr>\n",
       "      <th>4</th>\n",
       "      <td>competent</td>\n",
       "      <td>technician</td>\n",
       "      <td>True</td>\n",
       "      <td>female</td>\n",
       "      <td>The technician is a woman.</td>\n",
       "    </tr>\n",
       "    <tr>\n",
       "      <th>5</th>\n",
       "      <td>competent</td>\n",
       "      <td>technician</td>\n",
       "      <td>True</td>\n",
       "      <td>gender_neutral</td>\n",
       "      <td>The technician is non-binary.</td>\n",
       "    </tr>\n",
       "    <tr>\n",
       "      <th>9</th>\n",
       "      <td>competent</td>\n",
       "      <td>accountant</td>\n",
       "      <td>True</td>\n",
       "      <td>male</td>\n",
       "      <td>The accountant is a man.</td>\n",
       "    </tr>\n",
       "    <tr>\n",
       "      <th>10</th>\n",
       "      <td>competent</td>\n",
       "      <td>accountant</td>\n",
       "      <td>True</td>\n",
       "      <td>female</td>\n",
       "      <td>The accountant is a woman.</td>\n",
       "    </tr>\n",
       "  </tbody>\n",
       "</table>\n",
       "</div>"
      ],
      "text/plain": [
       "      synonym  occupation  baseline          gender  \\\n",
       "3   competent  technician      True            male   \n",
       "4   competent  technician      True          female   \n",
       "5   competent  technician      True  gender_neutral   \n",
       "9   competent  accountant      True            male   \n",
       "10  competent  accountant      True          female   \n",
       "\n",
       "                         sentence  \n",
       "3        The technician is a man.  \n",
       "4      The technician is a woman.  \n",
       "5   The technician is non-binary.  \n",
       "9        The accountant is a man.  \n",
       "10     The accountant is a woman.  "
      ]
     },
     "execution_count": 16,
     "metadata": {},
     "output_type": "execute_result"
    }
   ],
   "source": [
    "baseline = sentences_df[sentences_df['baseline']==True]\n",
    "baseline.head()"
   ]
  },
  {
   "cell_type": "code",
   "execution_count": null,
   "id": "eded2f28-0e8e-4e6e-9a13-552a6b4353b8",
   "metadata": {},
   "outputs": [],
   "source": []
  }
 ],
 "metadata": {
  "kernelspec": {
   "display_name": "comp550-final-project",
   "language": "python",
   "name": "comp550-final-project"
  },
  "language_info": {
   "codemirror_mode": {
    "name": "ipython",
    "version": 3
   },
   "file_extension": ".py",
   "mimetype": "text/x-python",
   "name": "python",
   "nbconvert_exporter": "python",
   "pygments_lexer": "ipython3",
   "version": "3.13.0"
  }
 },
 "nbformat": 4,
 "nbformat_minor": 5
}
